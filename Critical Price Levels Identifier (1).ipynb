{
 "cells": [
  {
   "cell_type": "markdown",
   "metadata": {},
   "source": [
    "# Critical Price Levels Identifier:\n",
    "\n",
    "Used FinDiff, NumPy and pandas library to identify key levels in price data using calculus.\n",
    "- Wrote an algorithm which identifies key points in price data if they can be categorized as a minimum or maximum value.\n",
    "> get_extrema(isMin) function\n",
    "- Created lowerbounds and upperbounds to group extrema falling within the same desired range\n",
    "> Allows the algorithm to count the amount of times price touches particular extrema points, providing a useful measurement for price sensitivity at the corresponding points"
   ]
  },
  {
   "cell_type": "markdown",
   "metadata": {},
   "source": [
    "### Importing Apple price data"
   ]
  },
  {
   "cell_type": "code",
   "execution_count": 1,
   "metadata": {},
   "outputs": [
    {
     "data": {
      "text/html": [
       "<div>\n",
       "<style scoped>\n",
       "    .dataframe tbody tr th:only-of-type {\n",
       "        vertical-align: middle;\n",
       "    }\n",
       "\n",
       "    .dataframe tbody tr th {\n",
       "        vertical-align: top;\n",
       "    }\n",
       "\n",
       "    .dataframe thead th {\n",
       "        text-align: right;\n",
       "    }\n",
       "</style>\n",
       "<table border=\"1\" class=\"dataframe\">\n",
       "  <thead>\n",
       "    <tr style=\"text-align: right;\">\n",
       "      <th></th>\n",
       "      <th>Date</th>\n",
       "      <th>Close</th>\n",
       "    </tr>\n",
       "  </thead>\n",
       "  <tbody>\n",
       "    <tr>\n",
       "      <th>0</th>\n",
       "      <td>2020-07-21</td>\n",
       "      <td>97.000000</td>\n",
       "    </tr>\n",
       "    <tr>\n",
       "      <th>1</th>\n",
       "      <td>2020-07-22</td>\n",
       "      <td>97.272499</td>\n",
       "    </tr>\n",
       "    <tr>\n",
       "      <th>2</th>\n",
       "      <td>2020-07-23</td>\n",
       "      <td>92.845001</td>\n",
       "    </tr>\n",
       "    <tr>\n",
       "      <th>3</th>\n",
       "      <td>2020-07-24</td>\n",
       "      <td>92.614998</td>\n",
       "    </tr>\n",
       "    <tr>\n",
       "      <th>4</th>\n",
       "      <td>2020-07-27</td>\n",
       "      <td>94.809998</td>\n",
       "    </tr>\n",
       "    <tr>\n",
       "      <th>...</th>\n",
       "      <td>...</td>\n",
       "      <td>...</td>\n",
       "    </tr>\n",
       "    <tr>\n",
       "      <th>248</th>\n",
       "      <td>2021-07-15</td>\n",
       "      <td>148.479996</td>\n",
       "    </tr>\n",
       "    <tr>\n",
       "      <th>249</th>\n",
       "      <td>2021-07-16</td>\n",
       "      <td>146.389999</td>\n",
       "    </tr>\n",
       "    <tr>\n",
       "      <th>250</th>\n",
       "      <td>2021-07-19</td>\n",
       "      <td>142.449997</td>\n",
       "    </tr>\n",
       "    <tr>\n",
       "      <th>251</th>\n",
       "      <td>2021-07-20</td>\n",
       "      <td>146.149994</td>\n",
       "    </tr>\n",
       "    <tr>\n",
       "      <th>252</th>\n",
       "      <td>2021-07-21</td>\n",
       "      <td>145.421005</td>\n",
       "    </tr>\n",
       "  </tbody>\n",
       "</table>\n",
       "<p>253 rows × 2 columns</p>\n",
       "</div>"
      ],
      "text/plain": [
       "           Date       Close\n",
       "0    2020-07-21   97.000000\n",
       "1    2020-07-22   97.272499\n",
       "2    2020-07-23   92.845001\n",
       "3    2020-07-24   92.614998\n",
       "4    2020-07-27   94.809998\n",
       "..          ...         ...\n",
       "248  2021-07-15  148.479996\n",
       "249  2021-07-16  146.389999\n",
       "250  2021-07-19  142.449997\n",
       "251  2021-07-20  146.149994\n",
       "252  2021-07-21  145.421005\n",
       "\n",
       "[253 rows x 2 columns]"
      ]
     },
     "execution_count": 1,
     "metadata": {},
     "output_type": "execute_result"
    },
    {
     "data": {
      "image/png": "[encoded data removed]",
      "text/plain": [
       "<Figure size 432x288 with 1 Axes>"
      ]
     },
     "metadata": {
      "needs_background": "light"
     },
     "output_type": "display_data"
    }
   ],
   "source": [
    "import pandas as pd\n",
    "import numpy as np\n",
    "import matplotlib.pyplot as plt\n",
    "from statistics import mean\n",
    "\n",
    "appl = pd.read_csv('AAPL.csv')\n",
    "appl_line = appl.plot.line('Date', 'Close')\n",
    "\n",
    "\n",
    "\n",
    "indexed_close = appl[['Date', 'Close']]\n",
    "clean_indexed_close = indexed_close.transpose()\n",
    "clean_indexed_close\n",
    "indexed_close"
   ]
  },
  {
   "cell_type": "markdown",
   "metadata": {},
   "source": [
    "### Importing FinDiff and differentiating Price with respect to X (Date)"
   ]
  },
  {
   "cell_type": "code",
   "execution_count": 2,
   "metadata": {},
   "outputs": [
    {
     "data": {
      "image/png": "[encoded data removed]",
      "text/plain": [
       "<Figure size 432x288 with 1 Axes>"
      ]
     },
     "metadata": {
      "needs_background": "light"
     },
     "output_type": "display_data"
    }
   ],
   "source": [
    "from findiff import FinDiff\n",
    "\n",
    "h = appl['Close']\n",
    "hist = appl.hist('Close')\n",
    "\n",
    "# Setting duration of dx = 1 (1 unit of time) in this case 1 day (daily price data)\n",
    "dx = 1 \n",
    "\n",
    "# Taking first order derivative\n",
    "d_dx = FinDiff(0, dx, 1)\n",
    "\n",
    "# Taking second order derivative\n",
    "d2_dx2 = FinDiff(0, dx, 2)\n",
    "\n",
    "# Converting History of Closes to Array\n",
    "clarr = np.asarray(h)\n",
    "\n",
    "# Defining Price Velocity\n",
    "mom = d_dx(clarr)\n",
    "\n",
    "# Defining Price Acceleration\n",
    "momacc = d2_dx2(clarr)"
   ]
  },
  {
   "cell_type": "markdown",
   "metadata": {},
   "source": [
    "### Function to Identify Critical Points in Price\n",
    "> get_extrema(isMin)"
   ]
  },
  {
   "cell_type": "code",
   "execution_count": 3,
   "metadata": {},
   "outputs": [],
   "source": [
    "# Getting Extrema\n",
    "# Takes in list of indexed closed prices and returns minima and maxima values\n",
    "\n",
    "def get_extrema(isMin):\n",
    "\n",
    "    # Applying to all values in time range & defining conditions for extrema\n",
    "    \n",
    "    return [x for x in range(len(mom))\n",
    "\"\"\"\n",
    "If acceleration is either positive (minima) or acceleration is negative (maxima) \n",
    "and one of the conditions is met the function will return values for the range\n",
    "\"\"\"\n",
    "            # Acceleration condition\n",
    "            if (momacc[x] > 0 if isMin else momacc[x] < 0) and \n",
    "            \n",
    "            # Velocity Possibilities:\n",
    "\"\"\"\n",
    "1) [Velocity = 0] OR [ x is not the last value AND\n",
    "2) Velocity(x) > 0 and Velocity(x+1) < 0 AND height(x) >= height(x+1)\n",
    "- This would indicate a maxima at time x\n",
    "3) Velocity(x) < 0 and Velocity(x+1) > 0 AND height(x) =< height(x+1)\n",
    "- This would indicate a minima at time x ]\n",
    "\n",
    "OR [ x =/= 0 (not first value) AND \n",
    "4) velocity(x-1) > 0 and velocity(x) < 0 AND height(x-1) < height(x)\n",
    "- The would indicate a minima at time x\n",
    "5) velocity(x-1) < 0 and velocity(x) > 0 AND height(x-1) > height(x)\n",
    "- This would indicate a maxima at time x ]\n",
    "\"\"\"\n",
    "            \n",
    "            (mom[x] == 0 or (x != len(mom) - 1 and\n",
    "              (mom[x] > 0 and mom[x+1] < 0 and\n",
    "               h[x] >= h[x+1] or\n",
    "               mom[x] < 0 and\n",
    "               mom[x+1] > 0 and\n",
    "               h[x] <= h[x+1]) or\n",
    "              x != 0 and\n",
    "              (mom[x-1] > 0 and\n",
    "               mom[x] < 0 and\n",
    "               h[x-1] < h[x] or\n",
    "               mom[x-1] < 0 and\n",
    "               mom[x] > 0 and\n",
    "               h[x-1] > h[x])))]\n",
    "\n",
    "\"\"\"\n",
    "Positive Accelerations with conditions : get_extrema(True) return minima\n",
    "Negative Accelerations with conditions : get_extrema(False) return maxima\n",
    "\"\"\"\n",
    "\n",
    "minimaIdxs, maximaIdxs = get_extrema(True), get_extrema(False)\n",
    "\"\"\"\n",
    "# Return All Extrema : extrema = minima + maxima\n",
    "\"\"\"\n",
    "minima_maxima = minimaIdxs + maximaIdxs"
   ]
  },
  {
   "cell_type": "markdown",
   "metadata": {},
   "source": [
    "### Calculating significance of extrema and visualizing results"
   ]
  },
  {
   "cell_type": "code",
   "execution_count": 4,
   "metadata": {
    "scrolled": true
   },
   "outputs": [],
   "source": [
    "# Adding Extrema to Dataframe\n",
    "\n",
    "levels = pd.DataFrame(h.iloc[np.array(minima_maxima)-1])\n",
    "levels.columns = ['extrema']"
   ]
  },
  {
   "cell_type": "code",
   "execution_count": 5,
   "metadata": {},
   "outputs": [],
   "source": [
    "# Adding lowerbounds and upperbounds to find and count overlapping extrema\n",
    "\n",
    "levels['lower'] = levels['extrema'] * 0.99\n",
    "levels['upper'] = levels['extrema'] * 1.01"
   ]
  },
  {
   "cell_type": "code",
   "execution_count": 6,
   "metadata": {},
   "outputs": [
    {
     "data": {
      "text/html": [
       "<div>\n",
       "<style scoped>\n",
       "    .dataframe tbody tr th:only-of-type {\n",
       "        vertical-align: middle;\n",
       "    }\n",
       "\n",
       "    .dataframe tbody tr th {\n",
       "        vertical-align: top;\n",
       "    }\n",
       "\n",
       "    .dataframe thead th {\n",
       "        text-align: right;\n",
       "    }\n",
       "</style>\n",
       "<table border=\"1\" class=\"dataframe\">\n",
       "  <thead>\n",
       "    <tr style=\"text-align: right;\">\n",
       "      <th></th>\n",
       "      <th>mean</th>\n",
       "      <th>count</th>\n",
       "    </tr>\n",
       "    <tr>\n",
       "      <th>extrema</th>\n",
       "      <th></th>\n",
       "      <th></th>\n",
       "    </tr>\n",
       "  </thead>\n",
       "  <tbody>\n",
       "    <tr>\n",
       "      <th>(108.845, 110.845]</th>\n",
       "      <td>109.835625</td>\n",
       "      <td>4</td>\n",
       "    </tr>\n",
       "    <tr>\n",
       "      <th>(110.845, 112.845]</th>\n",
       "      <td>112.452500</td>\n",
       "      <td>3</td>\n",
       "    </tr>\n",
       "    <tr>\n",
       "      <th>(112.845, 114.845]</th>\n",
       "      <td>113.173332</td>\n",
       "      <td>3</td>\n",
       "    </tr>\n",
       "    <tr>\n",
       "      <th>(114.845, 116.845]</th>\n",
       "      <td>115.762500</td>\n",
       "      <td>11</td>\n",
       "    </tr>\n",
       "    <tr>\n",
       "      <th>(118.845, 120.845]</th>\n",
       "      <td>119.657999</td>\n",
       "      <td>5</td>\n",
       "    </tr>\n",
       "    <tr>\n",
       "      <th>(120.845, 122.845]</th>\n",
       "      <td>121.743334</td>\n",
       "      <td>9</td>\n",
       "    </tr>\n",
       "    <tr>\n",
       "      <th>(122.845, 124.845]</th>\n",
       "      <td>124.183125</td>\n",
       "      <td>8</td>\n",
       "    </tr>\n",
       "    <tr>\n",
       "      <th>(124.845, 126.845]</th>\n",
       "      <td>125.415000</td>\n",
       "      <td>8</td>\n",
       "    </tr>\n",
       "    <tr>\n",
       "      <th>(126.845, 128.845]</th>\n",
       "      <td>127.849999</td>\n",
       "      <td>6</td>\n",
       "    </tr>\n",
       "    <tr>\n",
       "      <th>(128.845, 130.845]</th>\n",
       "      <td>129.429999</td>\n",
       "      <td>5</td>\n",
       "    </tr>\n",
       "    <tr>\n",
       "      <th>(130.845, 132.845]</th>\n",
       "      <td>131.747998</td>\n",
       "      <td>5</td>\n",
       "    </tr>\n",
       "    <tr>\n",
       "      <th>(132.845, 134.845]</th>\n",
       "      <td>133.911669</td>\n",
       "      <td>6</td>\n",
       "    </tr>\n",
       "  </tbody>\n",
       "</table>\n",
       "</div>"
      ],
      "text/plain": [
       "                          mean  count\n",
       "extrema                              \n",
       "(108.845, 110.845]  109.835625      4\n",
       "(110.845, 112.845]  112.452500      3\n",
       "(112.845, 114.845]  113.173332      3\n",
       "(114.845, 116.845]  115.762500     11\n",
       "(118.845, 120.845]  119.657999      5\n",
       "(120.845, 122.845]  121.743334      9\n",
       "(122.845, 124.845]  124.183125      8\n",
       "(124.845, 126.845]  125.415000      8\n",
       "(126.845, 128.845]  127.849999      6\n",
       "(128.845, 130.845]  129.429999      5\n",
       "(130.845, 132.845]  131.747998      5\n",
       "(132.845, 134.845]  133.911669      6"
      ]
     },
     "execution_count": 6,
     "metadata": {},
     "output_type": "execute_result"
    }
   ],
   "source": [
    "# Measuring the significance of the critical level by measuring the extrema within the lower and upperbounds\n",
    "# Returning the mean as the new \"extrema value\" combining ones in the count\n",
    "\n",
    "grpby = levels.groupby(pd.cut(levels['extrema'], np.arange(levels['extrema'].min(),\\\n",
    "                                                   levels['extrema'].max(), 2)))['extrema'].agg(['mean','count'])#.dropna()\n",
    "grpby[grpby['count'] > 2]"
   ]
  },
  {
   "cell_type": "code",
   "execution_count": 7,
   "metadata": {},
   "outputs": [],
   "source": [
    "# Selecting extrema with only 2 counts or more\n",
    "\n",
    "srlines = grpby[grpby['count'] > 2]['mean'].values"
   ]
  },
  {
   "cell_type": "code",
   "execution_count": 8,
   "metadata": {},
   "outputs": [],
   "source": [
    "# Creating Range for Graph\n",
    "\n",
    "start = pd.to_datetime(appl.index.min())\n",
    "idx = pd.date_range(start, periods= 365)\n",
    "df = pd.DataFrame({'0':[srlines[0]] * 365})\n",
    "df.index = idx\n",
    "\n",
    "for i in range(len(srlines)):\n",
    "    df[str(i)] = srlines[i]"
   ]
  },
  {
   "cell_type": "code",
   "execution_count": 9,
   "metadata": {},
   "outputs": [
    {
     "data": {
      "text/plain": [
       "(365, 253, 365)"
      ]
     },
     "execution_count": 9,
     "metadata": {},
     "output_type": "execute_result"
    }
   ],
   "source": [
    "len(idx), len(appl), len(df)"
   ]
  },
  {
   "cell_type": "code",
   "execution_count": 10,
   "metadata": {},
   "outputs": [
    {
     "data": {
      "image/png": "[encoded data removed]",
      "text/plain": [
       "<Figure size 432x288 with 1 Axes>"
      ]
     },
     "metadata": {
      "needs_background": "light"
     },
     "output_type": "display_data"
    }
   ],
   "source": [
    "# Visualizing Extrema Found by get_extrema(isMin)\n",
    "\n",
    "plt.figure()\n",
    "plt.plot(appl['Close'])\n",
    "for i in df.columns:\n",
    "    plt.plot(df[i])\n",
    "plt.show()"
   ]
  }
 ],
 "metadata": {
  "kernelspec": {
   "display_name": "Python 3",
   "language": "python",
   "name": "python3"
  },
  "language_info": {
   "codemirror_mode": {
    "name": "ipython",
    "version": 3
   },
   "file_extension": ".py",
   "mimetype": "text/x-python",
   "name": "python",
   "nbconvert_exporter": "python",
   "pygments_lexer": "ipython3",
   "version": "3.8.8"
  }
 },
 "nbformat": 4,
 "nbformat_minor": 2
}
